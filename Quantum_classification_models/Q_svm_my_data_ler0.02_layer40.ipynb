{
 "cells": [
  {
   "cell_type": "markdown",
   "metadata": {
    "id": "sZHDbqbXH-Ny"
   },
   "source": [
    "## multiclass variational classifier"
   ]
  },
  {
   "cell_type": "code",
   "execution_count": null,
   "metadata": {
    "id": "xuLnXZpl2j-M"
   },
   "outputs": [],
   "source": [
    "# 4 features and 3 classes\n",
    "#will use amplitude embedding"
   ]
  },
  {
   "cell_type": "code",
   "execution_count": null,
   "metadata": {
    "id": "Q7r76FEZIBuH"
   },
   "outputs": [],
   "source": [
    "import pennylane as qml\n",
    "import torch\n",
    "import numpy as np\n",
    "from torch.autograd import Variable\n",
    "import torch.optim as optim\n",
    "from sklearn import datasets\n",
    "import matplotlib.pyplot as plt\n",
    "import pandas as pd\n"
   ]
  },
  {
   "cell_type": "code",
   "execution_count": null,
   "metadata": {
    "colab": {
     "base_uri": "https://localhost:8080/"
    },
    "id": "JjMgGjLUlk8v",
    "outputId": "586a47e2-b9cd-44e0-a64e-15e1f325a291"
   },
   "outputs": [
    {
     "name": "stdout",
     "output_type": "stream",
     "text": [
      "num_qubits : 3\n"
     ]
    }
   ],
   "source": [
    "np.random.seed(0)\n",
    "torch.manual_seed(0)\n",
    "\n",
    "num_classes = 10\n",
    "margin = 0.15\n",
    "feature_size = 7\n",
    "batch_size = 10\n",
    "lr_adam = 0.02\n",
    "train_split = 0.75\n",
    "# the number of the required qubits is calculated from the number of features\n",
    "num_qubits = int(np.ceil(np.log2(feature_size)))\n",
    "num_layers = 40\n",
    "total_iterations = 120\n",
    "print(\"num_qubits :\",num_qubits )"
   ]
  },
  {
   "cell_type": "code",
   "execution_count": null,
   "metadata": {
    "id": "gOUgzrJMmDNS"
   },
   "outputs": [],
   "source": [
    "dev = qml.device(\"default.qubit\", wires=num_qubits)\n",
    "\n",
    "######################################################################\n",
    "#qml.Rot(phi, theta, omega, wires, do_queue=True, id=None)[source]\n",
    "def layer(W):\n",
    "    for i in range(num_qubits):\n",
    "        qml.Rot(W[i, 0], W[i, 1], W[i, 2], wires=i)\n",
    "    for j in range(num_qubits - 1):\n",
    "        qml.CNOT(wires=[j, j + 1])\n",
    "    if num_qubits >= 2:\n",
    "        # Apply additional CNOT to entangle the last with the first qubit\n",
    "        qml.CNOT(wires=[num_qubits - 1, 0])\n",
    "#######################################################################################\n",
    "# As we are implementing our multiclass classifier as multiple one-vs-all classifiers,\n",
    "# we will use 3 QNodes, each representing one such classifier. That is, circuit1 classifies if a sample belongs\n",
    "# to class 1 or not, and so on. The circuit architecture for all nodes are the same.\n",
    "\n",
    "def circuit(weights, feat=None):  #feat==feature\n",
    "    qml.AmplitudeEmbedding(feat, range(num_qubits), pad_with=0.0, normalize=True)\n",
    "\n",
    "    for W in weights:              # هدف این هم نفهمیدم؟؟؟؟؟؟؟؟؟\n",
    "        layer(W)\n",
    "\n",
    "    return qml.expval(qml.PauliZ(0))  #?????????????????????\n",
    "#####################################################################################\n",
    "qnodes = []\n",
    "for iq in range(num_classes):\n",
    "    qnode = qml.QNode(circuit, dev, interface=\"torch\")  #The interface that will be used for classical backpropagation\n",
    "    qnodes.append(qnode)                                #This affects the types of objects that can be passed to/returned from the QNode\n",
    "\n",
    "\n",
    "######################################################################################\n",
    "#The variational quantum circuit is parametrized by the weights. \n",
    "#We use a classical bias term that is applied after processing the quantum circuit’s output. \n",
    "#Both variational circuit weights and classical bias term are optimized.\n",
    "\n",
    "\n",
    "def variational_classifier(q_circuit, params, feat):\n",
    "    weights = params[0]\n",
    "    bias = params[1]\n",
    "    return q_circuit(weights, feat=feat) + bias  #########<sigmaZ>+B???   ایا فقط روی استیت وایر 1 چشم داشتی میگیره یا استیت ها در هم تنیده شدن؟\n",
    "############################################################################"
   ]
  },
  {
   "cell_type": "code",
   "execution_count": null,
   "metadata": {
    "id": "41bGANQcIJpQ"
   },
   "outputs": [],
   "source": [
    "all_weights = [\n",
    "              Variable(0.1 * torch.randn(num_layers, num_qubits, 3), requires_grad=True)\n",
    "              for i in range(num_classes)\n",
    "              ]\n",
    "all_bias = [Variable(0.1 * torch.ones(1), requires_grad=True) for i in range(num_classes)]\n",
    "optimizer = optim.Adam(all_weights + all_bias, lr=lr_adam)\n",
    "params = (all_weights, all_bias)\n",
    "weights = params[0]\n",
    "bias = params[1]"
   ]
  },
  {
   "cell_type": "code",
   "execution_count": null,
   "metadata": {
    "id": "b9zaKo2mIo-d"
   },
   "outputs": [],
   "source": [
    "def multiclass_svm_loss(q_circuits, all_params, feature_vecs, true_labels):\n",
    "    loss = 0\n",
    "    num_samples = len(true_labels)\n",
    "    for i, feature_vec in enumerate(feature_vecs):\n",
    "        # Compute the score given to this sample by the classifier corresponding to the\n",
    "        # true label. So for a true label of 1, get the score computed by classifer 1,\n",
    "        # which distinguishes between \"class 1\" or \"not class 1\".\n",
    "        #s_true=y predicted for truth answer\n",
    "        s_true = variational_classifier(\n",
    "            q_circuits[int(true_labels[i])],\n",
    "            (all_params[0][int(true_labels[i])], all_params[1][int(true_labels[i])]),\n",
    "            feature_vec,\n",
    "        )\n",
    "        s_true = s_true.float()\n",
    "        li = 0\n",
    "\n",
    "        # Get the scores computed for this sample by the other classifiers\n",
    "        for j in range(num_classes):\n",
    "            if j != int(true_labels[i]):\n",
    "                s_j = variational_classifier(\n",
    "                    q_circuits[j], (all_params[0][j], all_params[1][j]), feature_vec\n",
    "                )\n",
    "                s_j = s_j.float()\n",
    "                li += torch.max(torch.zeros(1).float(), s_j - s_true + margin)\n",
    "        loss += li\n",
    "\n",
    "    return loss / num_samples"
   ]
  },
  {
   "cell_type": "code",
   "execution_count": null,
   "metadata": {
    "id": "t8IQkhkLZslK"
   },
   "outputs": [],
   "source": [
    "def classify(q_circuits, all_params, feature_vecs, labels):\n",
    "    predicted_labels = []\n",
    "    for i, feature_vec in enumerate(feature_vecs):\n",
    "        scores = np.zeros(num_classes)\n",
    "        for c in range(num_classes):\n",
    "            score = variational_classifier(\n",
    "                q_circuits[c], (all_params[0][c], all_params[1][c]), feature_vec\n",
    "            )\n",
    "            scores[c] = float(score)\n",
    "        pred_class = np.argmax(scores)\n",
    "        predicted_labels.append(pred_class)\n",
    "    return predicted_labels\n",
    "\n",
    "\n",
    "def accuracy(labels, hard_predictions):\n",
    "    correct = 0\n",
    "    for l, p in zip(labels, hard_predictions):\n",
    "        if torch.abs(l - p) < 1e-5:\n",
    "            correct = correct + 1\n",
    "    accuracy_amount= correct / labels.shape[0]\n",
    "    return accuracy_amount"
   ]
  },
  {
   "cell_type": "markdown",
   "metadata": {
    "id": "knXVzNOKhwBs"
   },
   "source": [
    "#Data Loading and Processing"
   ]
  },
  {
   "cell_type": "code",
   "execution_count": null,
   "metadata": {
    "id": "YEXoKRNQTBZU"
   },
   "outputs": [],
   "source": [
    "#Now we load in the iris dataset and normalize the features so that the sum of the feature elements squared is 1\n",
    "# First X sample, original  : tensor([5.1000, 3.5000, 1.4000, 0.2000], dtype=torch.float64)\n",
    "# First X sample, normalized: tensor([0.8038, 0.5516, 0.2206, 0.0315], dtype=torch.float64)\n",
    "# torch.Size([150, 4]) torch.Size([150, 1])\n",
    "# torch.Size([112, 4]) torch.Size([38, 4]) torch.Size([112, 1]) torch.Size([38, 1])\n",
    "\n",
    "\n",
    "def load_and_process_data():\n",
    "    data=pd.read_csv(\"all_datasets_shuffeled.csv\")\n",
    "    X = data[[\"n_1_H\",\"E_0_H\",\"E_1_H\",\"E_apear\",\"E_max\",\"E_disapear\",\"B_d\"]].values  # we only take the first two features.\n",
    "    y = data[\"target\"].values .reshape(-1,1)\n",
    "    X = torch.tensor(X[:, 0:feature_size])\n",
    "    print(\"First X sample, original  :\", X[0])\n",
    "    \n",
    "\n",
    "    # normalize each input\n",
    "    normalization = torch.sqrt(torch.sum(X ** 2, dim=1))\n",
    "    X_norm = X / normalization.reshape(len(X), 1)\n",
    "    print(\"First X sample, normalized:\", X_norm[0])\n",
    "    Y = torch.tensor(y)\n",
    "    print(\"X number:\",len(X),\"Y number:\",len(Y))\n",
    "    return X, Y\n",
    "\n",
    "\n",
    "# Create a train and test split.\n",
    "def split_data(feature_vecs, Y):\n",
    "    num_data = len(Y)\n",
    "    num_train = int(train_split * num_data)\n",
    "    index = np.random.permutation(range(num_data))\n",
    "    feat_vecs_train = feature_vecs[index[:num_train]]\n",
    "    Y_train = Y[index[:num_train]]\n",
    "    feat_vecs_test = feature_vecs[index[num_train:]]\n",
    "    Y_test = Y[index[num_train:]]\n",
    "    return feat_vecs_train, feat_vecs_test, Y_train, Y_test"
   ]
  },
  {
   "cell_type": "code",
   "execution_count": null,
   "metadata": {
    "id": "7o8WAP-1yZgs"
   },
   "outputs": [],
   "source": [
    "\n",
    "# torch.Size([150, 4]) torch.Size([150, 1])\n",
    "# torch.Size([112, 4]) torch.Size([38, 4]) torch.Size([112, 1]) torch.Size([38, 1])\n",
    "#0.1 for make weight more smaller\n",
    "#3 if phi, theta, omega\n",
    "#all_weights.shape=(num_layers, num_qubits, 3)=(6,2,3)\n",
    "#Num params:num_classes * num_layers * num_qubits * bias_number + 3=111  * bias_number=num_classes\n",
    "def training(features, Y):\n",
    "    num_data = Y.shape[0]\n",
    "    feat_vecs_train, feat_vecs_test, Y_train, Y_test = split_data(features, Y)\n",
    "    num_train = Y_train.shape[0]\n",
    "    q_circuits = qnodes\n",
    "\n",
    "    # Initialize the parameters\n",
    "    all_weights = [\n",
    "        Variable(0.1 * torch.randn(num_layers, num_qubits, 3), requires_grad=True)\n",
    "        for i in range(num_classes)\n",
    "    ]\n",
    "    all_bias = [Variable(0.1 * torch.ones(1), requires_grad=True) for i in range(num_classes)]\n",
    "    optimizer = optim.Adam(all_weights + all_bias, lr=lr_adam)\n",
    "    params = (all_weights, all_bias)\n",
    "    print(\"Num params: \", 3 * num_layers * num_qubits * 3 + 3)\n",
    "\n",
    "    costs, train_acc, test_acc = [], [], []\n",
    "\n",
    "    # train the variational classifier\n",
    "    #total_iterations=100\n",
    "    #batch_size = 10\n",
    "    for it in range(total_iterations):\n",
    "        batch_index = np.random.randint(0, num_train, (batch_size,))\n",
    "        feat_vecs_train_batch = feat_vecs_train[batch_index]\n",
    "        Y_train_batch = Y_train[batch_index]\n",
    "\n",
    "        optimizer.zero_grad()\n",
    "        curr_cost = multiclass_svm_loss(q_circuits, params, feat_vecs_train_batch, Y_train_batch)\n",
    "        curr_cost.backward()\n",
    "        optimizer.step()\n",
    "\n",
    "        # Compute predictions on train and validation set\n",
    "        predictions_train = classify(q_circuits, params, feat_vecs_train, Y_train)\n",
    "        predictions_test = classify(q_circuits, params, feat_vecs_test, Y_test)\n",
    "        acc_train = accuracy(Y_train, predictions_train)\n",
    "        acc_test = accuracy(Y_test, predictions_test)\n",
    "\n",
    "        print(\n",
    "            \"Iter: {:5d} | Cost: {:0.7f} | Acc train: {:0.7f} | Acc test: {:0.7f} \"\n",
    "            \"\".format(it + 1, curr_cost.item(), acc_train, acc_test)\n",
    "        )\n",
    "\n",
    "        costs.append(curr_cost.item())\n",
    "        train_acc.append(acc_train)\n",
    "        test_acc.append(acc_test)\n",
    "\n",
    "    return costs, train_acc, test_acc"
   ]
  },
  {
   "cell_type": "markdown",
   "metadata": {
    "id": "_JnCZEDsxaH7"
   },
   "source": [
    "## training algorithm and plot the results"
   ]
  },
  {
   "cell_type": "code",
   "execution_count": null,
   "metadata": {
    "colab": {
     "base_uri": "https://localhost:8080/"
    },
    "id": "E1Q6W0nP_kAx",
    "outputId": "54357c90-50d3-47ea-c59a-1b1fef37293e"
   },
   "outputs": [
    {
     "name": "stdout",
     "output_type": "stream",
     "text": [
      "First X sample, original  : tensor([579.2075,   6.2174,   6.0518,   0.0000,  31.0000,  99.0000,   8.0568],\n",
      "       dtype=torch.float64)\n",
      "First X sample, normalized: tensor([0.9841, 0.0106, 0.0103, 0.0000, 0.0527, 0.1682, 0.0137],\n",
      "       dtype=torch.float64)\n",
      "X number: 190 Y number: 190\n"
     ]
    },
    {
     "data": {
      "text/plain": [
       "(torch.Size([190, 1]), torch.Size([190, 7]))"
      ]
     },
     "execution_count": 10,
     "metadata": {},
     "output_type": "execute_result"
    }
   ],
   "source": [
    "features, Y = load_and_process_data()\n",
    "Y.shape,features.shape"
   ]
  },
  {
   "cell_type": "code",
   "execution_count": null,
   "metadata": {
    "colab": {
     "base_uri": "https://localhost:8080/"
    },
    "id": "UMySJdfFxXFT",
    "outputId": "827f31f7-4680-4429-bbf4-bc732363545a"
   },
   "outputs": [
    {
     "name": "stdout",
     "output_type": "stream",
     "text": [
      "First X sample, original  : tensor([579.2075,   6.2174,   6.0518,   0.0000,  31.0000,  99.0000,   8.0568],\n",
      "       dtype=torch.float64)\n",
      "First X sample, normalized: tensor([0.9841, 0.0106, 0.0103, 0.0000, 0.0527, 0.1682, 0.0137],\n",
      "       dtype=torch.float64)\n",
      "X number: 190 Y number: 190\n",
      "Num params:  165\n",
      "Iter:     1 | Cost: 1.4874512 | Acc train: 0.1056338 | Acc test: 0.0833333 \n",
      "Iter:     2 | Cost: 1.4175522 | Acc train: 0.1056338 | Acc test: 0.0833333 \n",
      "Iter:     3 | Cost: 1.1952463 | Acc train: 0.1056338 | Acc test: 0.0833333 \n",
      "Iter:     4 | Cost: 1.1552522 | Acc train: 0.1056338 | Acc test: 0.0833333 \n",
      "Iter:     5 | Cost: 1.2686349 | Acc train: 0.1056338 | Acc test: 0.0833333 \n",
      "Iter:     6 | Cost: 1.1470110 | Acc train: 0.1056338 | Acc test: 0.0833333 \n",
      "Iter:     7 | Cost: 1.4772992 | Acc train: 0.1126761 | Acc test: 0.0625000 \n",
      "Iter:     8 | Cost: 1.4587060 | Acc train: 0.1267606 | Acc test: 0.0833333 \n",
      "Iter:     9 | Cost: 1.1911991 | Acc train: 0.1338028 | Acc test: 0.0833333 \n",
      "Iter:    10 | Cost: 1.2962335 | Acc train: 0.1408451 | Acc test: 0.1041667 \n",
      "Iter:    11 | Cost: 1.1924220 | Acc train: 0.1408451 | Acc test: 0.1041667 \n",
      "Iter:    12 | Cost: 1.3065659 | Acc train: 0.1338028 | Acc test: 0.1041667 \n",
      "Iter:    13 | Cost: 1.1192734 | Acc train: 0.1478873 | Acc test: 0.1250000 \n",
      "Iter:    14 | Cost: 1.0270517 | Acc train: 0.1197183 | Acc test: 0.1250000 \n",
      "Iter:    15 | Cost: 1.3610570 | Acc train: 0.1197183 | Acc test: 0.1250000 \n",
      "Iter:    16 | Cost: 1.2606419 | Acc train: 0.1126761 | Acc test: 0.1250000 \n",
      "Iter:    17 | Cost: 0.6582863 | Acc train: 0.1056338 | Acc test: 0.1250000 \n",
      "Iter:    18 | Cost: 1.1055715 | Acc train: 0.1056338 | Acc test: 0.1041667 \n",
      "Iter:    19 | Cost: 0.9852787 | Acc train: 0.0985915 | Acc test: 0.1041667 \n",
      "Iter:    20 | Cost: 0.9049746 | Acc train: 0.0985915 | Acc test: 0.1041667 \n",
      "Iter:    21 | Cost: 1.1141437 | Acc train: 0.0985915 | Acc test: 0.1041667 \n",
      "Iter:    22 | Cost: 0.7576231 | Acc train: 0.0985915 | Acc test: 0.1041667 \n",
      "Iter:    23 | Cost: 0.9876928 | Acc train: 0.0985915 | Acc test: 0.1041667 \n",
      "Iter:    24 | Cost: 1.0211366 | Acc train: 0.0985915 | Acc test: 0.1041667 \n",
      "Iter:    25 | Cost: 0.8673387 | Acc train: 0.0985915 | Acc test: 0.1041667 \n",
      "Iter:    26 | Cost: 0.9266794 | Acc train: 0.0985915 | Acc test: 0.1041667 \n",
      "Iter:    27 | Cost: 0.9589594 | Acc train: 0.0985915 | Acc test: 0.1041667 \n",
      "Iter:    28 | Cost: 0.8025425 | Acc train: 0.0985915 | Acc test: 0.1041667 \n",
      "Iter:    29 | Cost: 0.6914173 | Acc train: 0.0985915 | Acc test: 0.1041667 \n",
      "Iter:    30 | Cost: 0.6138270 | Acc train: 0.0985915 | Acc test: 0.1041667 \n",
      "Iter:    31 | Cost: 0.7014488 | Acc train: 0.0985915 | Acc test: 0.1041667 \n",
      "Iter:    32 | Cost: 0.8088343 | Acc train: 0.0985915 | Acc test: 0.1041667 \n",
      "Iter:    33 | Cost: 0.8771184 | Acc train: 0.2042254 | Acc test: 0.1875000 \n",
      "Iter:    34 | Cost: 0.6059019 | Acc train: 0.2042254 | Acc test: 0.1875000 \n",
      "Iter:    35 | Cost: 0.8119625 | Acc train: 0.2042254 | Acc test: 0.1875000 \n",
      "Iter:    36 | Cost: 0.8436823 | Acc train: 0.2112676 | Acc test: 0.1875000 \n",
      "Iter:    37 | Cost: 0.6650624 | Acc train: 0.2183099 | Acc test: 0.1875000 \n",
      "Iter:    38 | Cost: 1.0188768 | Acc train: 0.1267606 | Acc test: 0.1041667 \n",
      "Iter:    39 | Cost: 0.6032131 | Acc train: 0.1338028 | Acc test: 0.1041667 \n",
      "Iter:    40 | Cost: 0.7386225 | Acc train: 0.1408451 | Acc test: 0.1458333 \n",
      "Iter:    41 | Cost: 0.5689031 | Acc train: 0.1760563 | Acc test: 0.1666667 \n",
      "Iter:    42 | Cost: 0.8510547 | Acc train: 0.1971831 | Acc test: 0.2083333 \n",
      "Iter:    43 | Cost: 0.6545987 | Acc train: 0.2605634 | Acc test: 0.2500000 \n",
      "Iter:    44 | Cost: 0.5135666 | Acc train: 0.3098592 | Acc test: 0.2500000 \n",
      "Iter:    45 | Cost: 0.5666446 | Acc train: 0.2746479 | Acc test: 0.1875000 \n",
      "Iter:    46 | Cost: 0.5339141 | Acc train: 0.2394366 | Acc test: 0.1666667 \n",
      "Iter:    47 | Cost: 0.6399235 | Acc train: 0.2253521 | Acc test: 0.1250000 \n",
      "Iter:    48 | Cost: 0.5243202 | Acc train: 0.2394366 | Acc test: 0.1666667 \n",
      "Iter:    49 | Cost: 0.5892360 | Acc train: 0.2957746 | Acc test: 0.1875000 \n",
      "Iter:    50 | Cost: 0.6611239 | Acc train: 0.3098592 | Acc test: 0.2500000 \n",
      "Iter:    51 | Cost: 0.6980026 | Acc train: 0.3098592 | Acc test: 0.2500000 \n",
      "Iter:    52 | Cost: 0.6927155 | Acc train: 0.3098592 | Acc test: 0.2500000 \n",
      "Iter:    53 | Cost: 0.5019957 | Acc train: 0.2957746 | Acc test: 0.2500000 \n",
      "Iter:    54 | Cost: 0.7688206 | Acc train: 0.3591549 | Acc test: 0.3125000 \n",
      "Iter:    55 | Cost: 0.4444957 | Acc train: 0.2957746 | Acc test: 0.2500000 \n",
      "Iter:    56 | Cost: 0.6064368 | Acc train: 0.2183099 | Acc test: 0.2083333 \n",
      "Iter:    57 | Cost: 0.4304683 | Acc train: 0.2183099 | Acc test: 0.2083333 \n",
      "Iter:    58 | Cost: 0.5478131 | Acc train: 0.2253521 | Acc test: 0.2083333 \n",
      "Iter:    59 | Cost: 0.6624829 | Acc train: 0.3239437 | Acc test: 0.3125000 \n",
      "Iter:    60 | Cost: 0.3088000 | Acc train: 0.3239437 | Acc test: 0.3125000 \n",
      "Iter:    61 | Cost: 0.5381501 | Acc train: 0.4366197 | Acc test: 0.3541667 \n",
      "Iter:    62 | Cost: 0.7163340 | Acc train: 0.2676056 | Acc test: 0.1875000 \n",
      "Iter:    63 | Cost: 0.8204896 | Acc train: 0.2323944 | Acc test: 0.1666667 \n",
      "Iter:    64 | Cost: 0.7795684 | Acc train: 0.2323944 | Acc test: 0.1666667 \n",
      "Iter:    65 | Cost: 0.6390845 | Acc train: 0.2253521 | Acc test: 0.1666667 \n",
      "Iter:    66 | Cost: 0.5361632 | Acc train: 0.2183099 | Acc test: 0.1458333 \n",
      "Iter:    67 | Cost: 0.5656852 | Acc train: 0.2183099 | Acc test: 0.1458333 \n",
      "Iter:    68 | Cost: 0.6304795 | Acc train: 0.3239437 | Acc test: 0.2291667 \n",
      "Iter:    69 | Cost: 0.5402954 | Acc train: 0.3239437 | Acc test: 0.2291667 \n",
      "Iter:    70 | Cost: 0.5837991 | Acc train: 0.3239437 | Acc test: 0.2291667 \n",
      "Iter:    71 | Cost: 0.6528171 | Acc train: 0.3239437 | Acc test: 0.2291667 \n",
      "Iter:    72 | Cost: 0.5058883 | Acc train: 0.3028169 | Acc test: 0.2916667 \n",
      "Iter:    73 | Cost: 0.8396061 | Acc train: 0.3028169 | Acc test: 0.2916667 \n",
      "Iter:    74 | Cost: 0.5954350 | Acc train: 0.3028169 | Acc test: 0.2916667 \n",
      "Iter:    75 | Cost: 0.6228480 | Acc train: 0.3028169 | Acc test: 0.2916667 \n",
      "Iter:    76 | Cost: 0.7890815 | Acc train: 0.3028169 | Acc test: 0.2916667 \n",
      "Iter:    77 | Cost: 0.6573354 | Acc train: 0.3028169 | Acc test: 0.2916667 \n",
      "Iter:    78 | Cost: 0.6073514 | Acc train: 0.4154930 | Acc test: 0.3750000 \n",
      "Iter:    79 | Cost: 0.3663601 | Acc train: 0.2183099 | Acc test: 0.2083333 \n",
      "Iter:    80 | Cost: 0.6788449 | Acc train: 0.2042254 | Acc test: 0.1875000 \n",
      "Iter:    81 | Cost: 0.6042553 | Acc train: 0.2042254 | Acc test: 0.1875000 \n",
      "Iter:    82 | Cost: 0.3954126 | Acc train: 0.2042254 | Acc test: 0.1875000 \n",
      "Iter:    83 | Cost: 0.5056382 | Acc train: 0.2253521 | Acc test: 0.2083333 \n",
      "Iter:    84 | Cost: 0.5998541 | Acc train: 0.3239437 | Acc test: 0.2291667 \n",
      "Iter:    85 | Cost: 0.6886588 | Acc train: 0.2605634 | Acc test: 0.1458333 \n",
      "Iter:    86 | Cost: 0.4414681 | Acc train: 0.2323944 | Acc test: 0.1041667 \n",
      "Iter:    87 | Cost: 0.5442132 | Acc train: 0.2323944 | Acc test: 0.1041667 \n",
      "Iter:    88 | Cost: 0.5558379 | Acc train: 0.2323944 | Acc test: 0.1041667 \n",
      "Iter:    89 | Cost: 0.4887547 | Acc train: 0.2323944 | Acc test: 0.1041667 \n",
      "Iter:    90 | Cost: 0.4657374 | Acc train: 0.2323944 | Acc test: 0.1041667 \n",
      "Iter:    91 | Cost: 0.5506033 | Acc train: 0.2605634 | Acc test: 0.1666667 \n",
      "Iter:    92 | Cost: 0.4195682 | Acc train: 0.3028169 | Acc test: 0.2708333 \n",
      "Iter:    93 | Cost: 0.6163319 | Acc train: 0.3098592 | Acc test: 0.2708333 \n",
      "Iter:    94 | Cost: 0.5156196 | Acc train: 0.3028169 | Acc test: 0.2708333 \n",
      "Iter:    95 | Cost: 0.4392118 | Acc train: 0.2394366 | Acc test: 0.1041667 \n",
      "Iter:    96 | Cost: 0.4956995 | Acc train: 0.2323944 | Acc test: 0.1041667 \n",
      "Iter:    97 | Cost: 0.5944779 | Acc train: 0.2323944 | Acc test: 0.1041667 \n",
      "Iter:    98 | Cost: 0.4357698 | Acc train: 0.3380282 | Acc test: 0.1875000 \n",
      "Iter:    99 | Cost: 0.4148217 | Acc train: 0.2816901 | Acc test: 0.1875000 \n",
      "Iter:   100 | Cost: 0.4627005 | Acc train: 0.2323944 | Acc test: 0.1458333 \n",
      "Iter:   101 | Cost: 0.4053077 | Acc train: 0.2464789 | Acc test: 0.1666667 \n",
      "Iter:   102 | Cost: 0.6009302 | Acc train: 0.2816901 | Acc test: 0.1875000 \n",
      "Iter:   103 | Cost: 0.5385860 | Acc train: 0.3169014 | Acc test: 0.2291667 \n",
      "Iter:   104 | Cost: 0.4664214 | Acc train: 0.3873239 | Acc test: 0.2500000 \n",
      "Iter:   105 | Cost: 0.7583314 | Acc train: 0.3943662 | Acc test: 0.2708333 \n",
      "Iter:   106 | Cost: 0.5547024 | Acc train: 0.3943662 | Acc test: 0.2708333 \n",
      "Iter:   107 | Cost: 0.2254947 | Acc train: 0.3943662 | Acc test: 0.2708333 \n",
      "Iter:   108 | Cost: 0.5558613 | Acc train: 0.3943662 | Acc test: 0.2708333 \n",
      "Iter:   109 | Cost: 0.4475994 | Acc train: 0.3943662 | Acc test: 0.2708333 \n",
      "Iter:   110 | Cost: 0.5710519 | Acc train: 0.3873239 | Acc test: 0.2708333 \n",
      "Iter:   111 | Cost: 0.2678607 | Acc train: 0.3802817 | Acc test: 0.2708333 \n",
      "Iter:   112 | Cost: 0.3176439 | Acc train: 0.3661972 | Acc test: 0.2500000 \n",
      "Iter:   113 | Cost: 0.6961669 | Acc train: 0.4366197 | Acc test: 0.3125000 \n",
      "Iter:   114 | Cost: 0.5021546 | Acc train: 0.4295775 | Acc test: 0.3125000 \n",
      "Iter:   115 | Cost: 0.5983623 | Acc train: 0.4225352 | Acc test: 0.3125000 \n",
      "Iter:   116 | Cost: 0.6317679 | Acc train: 0.3450704 | Acc test: 0.2291667 \n",
      "Iter:   117 | Cost: 0.4443482 | Acc train: 0.3591549 | Acc test: 0.2916667 \n",
      "Iter:   118 | Cost: 0.4586142 | Acc train: 0.3943662 | Acc test: 0.3541667 \n",
      "Iter:   119 | Cost: 0.4482041 | Acc train: 0.3943662 | Acc test: 0.3541667 \n",
      "Iter:   120 | Cost: 0.4951607 | Acc train: 0.4718310 | Acc test: 0.3958333 \n"
     ]
    }
   ],
   "source": [
    "# We now run our training algorithm and plot the results. Note that\n",
    "# for plotting, the matplotlib library is required\n",
    "\n",
    "features, Y = load_and_process_data()\n",
    "costs, train_acc, test_acc = training(features, Y)"
   ]
  },
  {
   "cell_type": "code",
   "execution_count": null,
   "metadata": {
    "colab": {
     "base_uri": "https://localhost:8080/",
     "height": 297
    },
    "id": "P0dXhCPSHFlR",
    "outputId": "8d6c7abb-bb90-405c-b72f-8ab9a385f89d"
   },
   "outputs": [
    {
     "data": {
      "image/png": "[encoded data removed]",
      "text/plain": [
       "<Figure size 432x288 with 2 Axes>"
      ]
     },
     "metadata": {
      "needs_background": "light"
     },
     "output_type": "display_data"
    }
   ],
   "source": [
    "fig, ax1 = plt.subplots()\n",
    "iters = np.arange(0, total_iterations, 1)\n",
    "colors = [\"tab:red\", \"tab:blue\"]\n",
    "ax1.set_xlabel(\"Iteration\", fontsize=17)\n",
    "ax1.set_ylabel(\"Cost\", fontsize=17, color=colors[0])\n",
    "ax1.plot(iters, costs, color=colors[0], linewidth=4)\n",
    "ax1.tick_params(axis=\"y\", labelsize=14, labelcolor=colors[0])\n",
    "\n",
    "ax2 = ax1.twinx()\n",
    "ax2.set_ylabel(\"Test Acc.\", fontsize=17, color=colors[1])\n",
    "ax2.plot(iters, test_acc, color=colors[1], linewidth=4)\n",
    "\n",
    "ax2.tick_params(axis=\"x\", labelsize=14)\n",
    "ax2.tick_params(axis=\"y\", labelsize=14, labelcolor=colors[1])\n",
    "\n",
    "plt.grid(False)\n",
    "plt.tight_layout()\n",
    "plt.show()"
   ]
  },
  {
   "cell_type": "code",
   "execution_count": null,
   "metadata": {
    "id": "mH8hXCvf8Zct"
   },
   "outputs": [],
   "source": []
  },
  {
   "cell_type": "code",
   "execution_count": null,
   "metadata": {
    "id": "4rD5bMdp8ZfK"
   },
   "outputs": [],
   "source": []
  },
  {
   "cell_type": "code",
   "execution_count": null,
   "metadata": {
    "id": "f7m9bZP88Zhh"
   },
   "outputs": [],
   "source": []
  },
  {
   "cell_type": "code",
   "execution_count": null,
   "metadata": {
    "id": "sIEjLv468Zj0"
   },
   "outputs": [],
   "source": []
  },
  {
   "cell_type": "markdown",
   "metadata": {
    "id": "SWU7CN7wXRJW"
   },
   "source": [
    "#try and error "
   ]
  },
  {
   "cell_type": "code",
   "execution_count": null,
   "metadata": {
    "id": "eJCyILg3Xecm"
   },
   "outputs": [],
   "source": [
    "np.random.seed(0)\n",
    "torch.manual_seed(0)\n",
    "\n",
    "num_classes = 3\n",
    "margin = 0.15\n",
    "feature_size = 4\n",
    "batch_size = 10\n",
    "lr_adam = 0.01\n",
    "train_split = 0.75\n",
    "# the number of the required qubits is calculated from the number of features\n",
    "num_qubits = int(np.ceil(np.log2(feature_size)))\n",
    "num_layers = 6\n",
    "total_iterations = 100\n",
    "\n",
    "print(\"num_qubits :\",num_qubits )"
   ]
  },
  {
   "cell_type": "code",
   "execution_count": null,
   "metadata": {
    "id": "mFsGCExp8Zlv"
   },
   "outputs": [],
   "source": [
    "features, Y = load_and_process_data()\n",
    "feat_vecs_train, feat_vecs_test, Y_train, Y_test = split_data(features, Y)\n",
    "\n",
    "num_train = Y_train.shape[0]\n",
    "num_data = Y.shape[0]\n",
    "\n",
    "print(features.shape, Y.shape)\n",
    "print(feat_vecs_train.shape, feat_vecs_test.shape, Y_train.shape, Y_test.shape )"
   ]
  },
  {
   "cell_type": "code",
   "execution_count": null,
   "metadata": {
    "id": "XIagrt4p9Tst"
   },
   "outputs": [],
   "source": [
    "iris = datasets.load_iris();\n",
    "X = iris.data  # we only take the first two features.\n",
    "y = iris.target.reshape(-1,1)\n",
    "X=np.concatenate((X[:20],X[50:70],X[100:120]),axis=0)\n",
    "y=np.concatenate((y[:20],y[50:70],y[100:120]),axis=0)\n",
    "X.shape,y.shape\n",
    "np.unique(y[:,0],return_counts=True)"
   ]
  },
  {
   "cell_type": "code",
   "execution_count": null,
   "metadata": {
    "id": "jOYJfKJjaTR2"
   },
   "outputs": [],
   "source": [
    "#def training(features, Y)\n",
    "\n",
    "q_circuits = qnodes\n",
    "\n",
    "# Initialize the parameters\n",
    "all_weights = [\n",
    "    Variable(0.1 * torch.randn(num_layers, num_qubits, 3), requires_grad=True)\n",
    "    for i in range(num_classes)\n",
    "]\n",
    "all_bias = [Variable(0.1 * torch.ones(1), requires_grad=True) for i in range(num_classes)]\n",
    "optimizer = optim.Adam(all_weights + all_bias, lr=lr_adam)\n",
    "params = (all_weights, all_bias)\n",
    "print(\"Num params: \", 3 * num_layers * num_qubits * 3 + 3)\n",
    "\n",
    "costs, train_acc, test_acc = [], [], []\n",
    "\n",
    "# train the variational classifier\n",
    "#total_iterations=100\n",
    "#batch_size = 10\n",
    "for it in range(total_iterations):\n",
    "    batch_index = np.random.randint(0, num_train, (batch_size,))\n",
    "    feat_vecs_train_batch = feat_vecs_train[batch_index]\n",
    "    Y_train_batch = Y_train[batch_index]\n",
    "\n",
    "    optimizer.zero_grad()  #????????????\n",
    "    curr_cost = multiclass_svm_loss(q_circuits, params, feat_vecs_train_batch, Y_train_batch)\n",
    "    curr_cost.backward()\n",
    "    optimizer.step()\n",
    "\n",
    "    # Compute predictions on train and validation set\n",
    "    predictions_train = classify(q_circuits, params, feat_vecs_train, Y_train)\n",
    "    predictions_test = classify(q_circuits, params, feat_vecs_test, Y_test)\n",
    "    acc_train = accuracy(Y_train, predictions_train)\n",
    "    acc_test = accuracy(Y_test, predictions_test)\n",
    "\n",
    "    print(\n",
    "        \"Iter: {:5d} | Cost: {:0.7f} | Acc train: {:0.7f} | Acc test: {:0.7f} \"\n",
    "        \"\".format(it + 1, curr_cost.item(), acc_train, acc_test)\n",
    "    )\n",
    "\n",
    "    costs.append(curr_cost.item())\n",
    "    train_acc.append(acc_train)\n",
    "    test_acc.append(acc_test)\n",
    "\n",
    "return costs, train_acc, test_acc\n"
   ]
  },
  {
   "cell_type": "code",
   "execution_count": null,
   "metadata": {
    "id": "Yx-mHbGstWKS"
   },
   "outputs": [],
   "source": [
    "#def multiclass_svm_loss(q_circuits, all_params, feature_vecs, true_labels):\n",
    "#multiclass_svm_loss(q_circuits, params, feat_vecs_train_batch, Y_train_batch)\n",
    "loss = 0\n",
    "num_samples = len(true_labels)\n",
    "for i, feature_vec in enumerate(feat_vecs_train_batch):\n",
    "    # Compute the score given to this sample by the classifier corresponding to the\n",
    "    # true label. So for a true label of 1, get the score computed by classifer 1,\n",
    "    # which distinguishes between \"class 1\" or \"not class 1\".\n",
    "    #s_true=y predicted for truth answer+\n",
    "    s_true = variational_classifier(\n",
    "        q_circuits[int(Y_train_batch[i])],\n",
    "        (all_params[0][int(Y_train_batch[i])], all_params[1][int(Y_train_batch[i])]),\n",
    "        feature_vec,\n",
    "    )\n",
    "    print(\"s_true: \",s_true)\n",
    "    s_true = s_true.float()\n",
    "    print(\"s_true: \",s_true)\n",
    "    li = 0\n",
    "\n",
    "    # Get the scores computed for this sample by the other classifiers\n",
    "    for j in range(num_classes):\n",
    "        if j != int(true_labels[i]):\n",
    "            s_j = variational_classifier(\n",
    "                q_circuits[j], (all_params[0][j], all_params[1][j]), feature_vec\n",
    "            )\n",
    "            s_j = s_j.float()\n",
    "            li += torch.max(torch.zeros(1).float(), s_j - s_true + margin)\n",
    "    loss += li\n",
    "\n",
    "return loss / num_samples"
   ]
  },
  {
   "cell_type": "code",
   "execution_count": null,
   "metadata": {
    "id": "8Cu4F2HZtWMf"
   },
   "outputs": [],
   "source": [
    "# s_true = variational_classifier(\n",
    "#         q_circuits[int(Y_train_batch[i])],\n",
    "#         (all_params[0][int(Y_train_batch[i])], all_params[1][int(Y_train_batch[i])]),\n",
    "#         feature_vec,\n",
    "#     )\n",
    "\n",
    "\n",
    "def variational_classifier(q_circuit, params, feat):\n",
    "    weights = params[0]\n",
    "    bias = params[1]\n",
    "    return q_circuit(weights, feat=feat) + bias\n"
   ]
  },
  {
   "cell_type": "code",
   "execution_count": null,
   "metadata": {
    "id": "RzM0HQjTtWQe"
   },
   "outputs": [],
   "source": [
    "dev = qml.device(\"default.qubit\", wires=2,)\n",
    "feat=[1/2,1/2,1/2,1/2]\n",
    "num_qubits=2\n",
    "@qml.qnode(dev)\n",
    "def circuit():\n",
    "    qml.AmplitudeEmbedding(feat, range(num_qubits), pad_with=0.0, normalize=True)\n",
    "    return qml.probs(wires=[0, 1])"
   ]
  },
  {
   "cell_type": "code",
   "execution_count": null,
   "metadata": {
    "id": "GfW_Q62YlIdD"
   },
   "outputs": [],
   "source": [
    "print( circuit())\n",
    "print( dev.state)\n",
    "print(qml.draw_mpl(circuit)())"
   ]
  },
  {
   "cell_type": "code",
   "execution_count": null,
   "metadata": {
    "id": "FmjuCG9ClMrk"
   },
   "outputs": [],
   "source": []
  }
 ],
 "metadata": {
  "colab": {
   "provenance": []
  },
  "kernelspec": {
   "display_name": "Python 3 (ipykernel)",
   "language": "python",
   "name": "python3"
  },
  "language_info": {
   "codemirror_mode": {
    "name": "ipython",
    "version": 3
   },
   "file_extension": ".py",
   "mimetype": "text/x-python",
   "name": "python",
   "nbconvert_exporter": "python",
   "pygments_lexer": "ipython3",
   "version": "3.10.9"
  }
 },
 "nbformat": 4,
 "nbformat_minor": 1
}
